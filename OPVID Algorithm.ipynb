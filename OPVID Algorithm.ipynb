{
 "cells": [
  {
   "cell_type": "markdown",
   "metadata": {},
   "source": [
    "#IMPORTING LIBRARIES"
   ]
  },
  {
   "cell_type": "code",
   "execution_count": 1,
   "metadata": {},
   "outputs": [],
   "source": [
    "from datetime import datetime\n",
    "import numpy as np\n",
    "from scipy import stats\n",
    "from scipy import special\n",
    "from sklearn.neighbors import NearestNeighbors\n",
    "import matplotlib.pyplot as plt\n",
    "import csv"
   ]
  },
  {
   "cell_type": "raw",
   "metadata": {},
   "source": [
    "# function that calculates various parameters of each orbit period for the given data"
   ]
  },
  {
   "cell_type": "code",
   "execution_count": 2,
   "metadata": {},
   "outputs": [],
   "source": [
    "\n",
    "def get_sts(data):\n",
    "\tres=np.amin(data,axis=0)#min\n",
    "\tres=np.reshape(res,(-1,res.shape[0]))\n",
    "\n",
    "\tres1=np.amax(data,axis=0)#max\n",
    "\tres1=np.reshape(res1,(-1,res1.shape[0]))\n",
    "\tres =np.concatenate((res,res1), axis=0)\n",
    "\n",
    "\tres1=np.mean(res,axis=0)#midrange\n",
    "\tres1=np.reshape(res1,(-1,res1.shape[0]))\n",
    "\tres =np.concatenate((res,res1), axis=0)\n",
    "\n",
    "\tres1=np.mean(data,axis=0)#mean\n",
    "\tres1=np.reshape(res1,(-1,res1.shape[0]))\n",
    "\tres =np.concatenate((res,res1), axis=0)\n",
    "\n",
    "\tmed=np.median(data,axis=0)#median\n",
    "\tmed=np.reshape(med,(-1,med.shape[0]))\n",
    "\tres =np.concatenate((res,med), axis=0)\n",
    "\n",
    "\tres1=stats.mstats.mode(data, axis=0)[0]#mode\n",
    "\tres1=np.reshape(res1,(1,-1))\n",
    "\tres =np.concatenate((res,res1), axis=0)\n",
    "\n",
    "\tfq=np.percentile(data,q=25,axis=0)#first quartile\n",
    "\tfq=np.reshape(fq,(-1,fq.shape[0]))\n",
    "\tres =np.concatenate((res,fq), axis=0)\n",
    "\n",
    "\ttq=np.percentile(data,q=75,axis=0)#third quartile\n",
    "\ttq=np.reshape(tq,(-1,tq.shape[0]))\n",
    "\tres =np.concatenate((res,tq), axis=0)\n",
    "\t\n",
    "\tres1=tq-fq#inter quartile range\n",
    "\tres =np.concatenate((res,res1), axis=0)\n",
    "\t\n",
    "\tres1=np.std(data,axis=0)#std\n",
    "\tres1=np.reshape(res1,(-1,res1.shape[0]))\n",
    "\tres =np.concatenate((res,res1), axis=0)\n",
    "\n",
    "\tres1=np.median(np.absolute(data-med), axis=0)#median_absolute_deviation\n",
    "\tres1=np.reshape(res1,(-1,res1.shape[0]))\n",
    "\tres =np.concatenate((res,res1), axis=0)\n",
    "\n",
    "\tres1=stats.skew(data, axis=0)#skewness\n",
    "\tres1=np.reshape(res1,(-1,res1.shape[0]))\n",
    "\tres =np.concatenate((res,res1), axis=0)\n",
    "\n",
    "\tres1=stats.kurtosis(data, axis=0, fisher=True)#skewness\n",
    "\tres1=np.reshape(res1,(-1,res1.shape[0]))\n",
    "\tres =np.concatenate((res,res1), axis=0)\n",
    "\n",
    "\treturn res\n"
   ]
  },
  {
   "cell_type": "raw",
   "metadata": {},
   "source": [
    "#function to process the each line of data and evaluate for time interval of 5400s (90min)"
   ]
  },
  {
   "cell_type": "code",
   "execution_count": 3,
   "metadata": {},
   "outputs": [],
   "source": [
    "\n",
    "def process_data(file_loc,starttimesecs,timewidth):\n",
    "\tf=open(file_loc)\n",
    "\tcur_end = starttimesecs+timewidth\n",
    "\tepoch = datetime.utcfromtimestamp(0)\n",
    "\tcur_arr=[]\n",
    "\tfull_arr=[]\n",
    "\ttme_arr = []\n",
    "\tfor line in f:\n",
    "\t\tline_arr=line.strip().split()\n",
    "\t\ttme=\"-\".join(line_arr[:5])\n",
    "\t\ttme=datetime.strptime(tme, '%Y-%j-%H-%M-%S')\n",
    "\t\tdte=tme.strftime(\"%Y-%m-%d %H:%M:%S\")\n",
    "\t\ttme=(tme - epoch).total_seconds()\n",
    "\t\tif tme>cur_end:\n",
    "\t\t\ttme_arr.append(dte)\n",
    "\t\t\tres=get_sts(np.array(cur_arr))\n",
    "\t\t\tfull_arr.append(res)\n",
    "\t\t\tcur_end = cur_end+timewidth\n",
    "\t\t\tcur_arr=[]\n",
    "\t\tlst=line_arr[-4:]\n",
    "\t\tlst=list(map(float, lst))\n",
    "\t\tcur_arr.append(lst[:])\n",
    "\n",
    "\ttme_arr.append(dte)\n",
    "\tres=get_sts(np.array(cur_arr))\n",
    "\tfull_arr.append(res)\n",
    "\treturn full_arr,tme_arr\n"
   ]
  },
  {
   "cell_type": "code",
   "execution_count": 4,
   "metadata": {},
   "outputs": [],
   "source": [
    "#program begins by loading the data set\n",
    "file_loc='G:\\Data\\Data-Sat1.txt'\n",
    "f=open(file_loc)\n",
    "i=0\n",
    "end=''\n",
    "orbit_period=5400\n",
    "for line in f:\n",
    "\tif i==0:\n",
    "\t\tstart=line.strip().split()\n",
    "\t\tstart=\"-\".join(start[:5])\n",
    "\tend=line\n",
    "\ti=i+1\n",
    "    \n",
    "end=end.strip().split()\n",
    "end=\"-\".join(end[:5])\n",
    "starttime=datetime.strptime(start, '%Y-%j-%H-%M-%S')\n",
    "endtime=datetime.strptime(end, '%Y-%j-%H-%M-%S')\n",
    "epoch = datetime.utcfromtimestamp(0)\n",
    "starttimesecs=(starttime - epoch).total_seconds()\n",
    "endtimesecs=(endtime - epoch).total_seconds()\n",
    "\n",
    "processed_data,tme_arr=process_data(file_loc,starttimesecs,orbit_period)\n",
    "processed_data=np.array(processed_data)\n",
    "processed_data_list=np.dsplit(processed_data, 4)\n",
    "OPVID_list=[]"
   ]
  },
  {
   "cell_type": "code",
   "execution_count": 17,
   "metadata": {},
   "outputs": [
    {
     "data": {
      "text/plain": [
       "['2019',\n",
       " '334',\n",
       " '22',\n",
       " '59',\n",
       " '55',\n",
       " '847',\n",
       " '58',\n",
       " '-0.0012909326',\n",
       " '0.0001373333',\n",
       " '-0.0017761767',\n",
       " '-0.0011535993']"
      ]
     },
     "execution_count": 17,
     "metadata": {},
     "output_type": "execute_result"
    }
   ],
   "source": [
    "#first line of data \n",
    "f=open(file_loc)\n",
    "for line in f:\n",
    "    line_arr=line.strip().split()\n",
    "line_arr"
   ]
  },
  {
   "cell_type": "code",
   "execution_count": 5,
   "metadata": {},
   "outputs": [],
   "source": [
    "# Evaluating OPVID score for each orbit using the given parameters for each timestamp\n",
    "for param in processed_data_list:\n",
    "\tparam = np.reshape(param,(param.shape[0],param.shape[1]))\n",
    "\t\n",
    "\tnbrs = NearestNeighbors(n_neighbors=11, algorithm='ball_tree').fit(param)\n",
    "\tdistances, indices = nbrs.kneighbors(param)\n",
    "\tlast_dist = np.hsplit(distances, distances.shape[1])[-1]\n",
    "\tdistances = np.hstack(np.hsplit(distances, distances.shape[1])[1:])\n",
    "\tdistances = distances/last_dist\n",
    "\tID_score = np.log(distances)\n",
    "\tID_score = np.reciprocal(np.sum(ID_score,axis=1)*-0.1)\n",
    "\t\n",
    "\tindices = np.hstack(np.hsplit(indices, indices.shape[1])[1:])\n",
    "\tIDOS = np.reshape(np.repeat(ID_score,ID_score.shape[0]),(ID_score.shape[0],-1)).T\n",
    "\tIDOS = np.reciprocal(np.take(IDOS,indices))\n",
    "\tIDOS = np.sum(IDOS,axis=1)\n",
    "\tIDOS = (ID_score/10)*IDOS\n",
    "\n",
    "\tPIDOS = np.reshape(np.repeat(ID_score,ID_score.shape[0]),(ID_score.shape[0],-1)).T\n",
    "\tPIDOS = np.take(PIDOS,indices)\n",
    "\tPIDOS = np.sum(PIDOS,axis=1)*0.1\n",
    "\tPIDOS = ID_score-PIDOS\n",
    "\n",
    "\tlmbda = 1.0 #scaling factor\n",
    "\terf_pidos = np.reshape(np.repeat(ID_score,ID_score.shape[0]),(ID_score.shape[0],-1)).T\n",
    "\terf_pidos = np.std(erf_pidos,axis=1)\n",
    "\terf_pidos = PIDOS/(lmbda*erf_pidos*2**0.5)\n",
    "\terf_pidos = special.erf(erf_pidos)\n",
    "\terf_pidos = np.reshape(erf_pidos,(erf_pidos.shape[0],-1))\n",
    "\terf_pidos = np.hstack((np.zeros(erf_pidos.shape),erf_pidos))\n",
    "\tOPVID=np.amax(erf_pidos,axis=1)\n",
    "\tOPVID_list.append(OPVID)"
   ]
  },
  {
   "cell_type": "raw",
   "metadata": {},
   "source": [
    "OPVID FOR ALL FOUR PARAMETERS IN EACH ORBIT"
   ]
  },
  {
   "cell_type": "code",
   "execution_count": 8,
   "metadata": {},
   "outputs": [
    {
     "name": "stdout",
     "output_type": "stream",
     "text": [
      "[0.13596862 0.         0.36846242 ... 0.         0.05750872 0.        ]\n"
     ]
    }
   ],
   "source": [
    "print(OPVID_list[:][0])"
   ]
  },
  {
   "cell_type": "code",
   "execution_count": 12,
   "metadata": {},
   "outputs": [
    {
     "data": {
      "text/plain": [
       "[<matplotlib.lines.Line2D at 0x27267738a08>]"
      ]
     },
     "execution_count": 12,
     "metadata": {},
     "output_type": "execute_result"
    },
    {
     "data": {
      "image/png": "[encoded data removed]",
      "text/plain": [
       "<Figure size 432x288 with 1 Axes>"
      ]
     },
     "metadata": {
      "needs_background": "light"
     },
     "output_type": "display_data"
    }
   ],
   "source": [
    "plt.plot(OPVID_list[:][0])"
   ]
  },
  {
   "cell_type": "code",
   "execution_count": 9,
   "metadata": {},
   "outputs": [
    {
     "name": "stdout",
     "output_type": "stream",
     "text": [
      "[0.52119807 0.         0.         ... 0.         0.         0.        ]\n"
     ]
    }
   ],
   "source": [
    "print(OPVID_list[:][1])"
   ]
  },
  {
   "cell_type": "code",
   "execution_count": 13,
   "metadata": {},
   "outputs": [
    {
     "data": {
      "text/plain": [
       "[<matplotlib.lines.Line2D at 0x27267750648>]"
      ]
     },
     "execution_count": 13,
     "metadata": {},
     "output_type": "execute_result"
    },
    {
     "data": {
      "image/png": "[encoded data removed]",
      "text/plain": [
       "<Figure size 432x288 with 1 Axes>"
      ]
     },
     "metadata": {
      "needs_background": "light"
     },
     "output_type": "display_data"
    }
   ],
   "source": [
    "plt.plot(OPVID_list[:][1])"
   ]
  },
  {
   "cell_type": "code",
   "execution_count": 10,
   "metadata": {},
   "outputs": [
    {
     "name": "stdout",
     "output_type": "stream",
     "text": [
      "[0.         0.         0.         ... 0.21235909 0.         0.39208548]\n"
     ]
    }
   ],
   "source": [
    "print(OPVID_list[:][2])"
   ]
  },
  {
   "cell_type": "code",
   "execution_count": 14,
   "metadata": {},
   "outputs": [
    {
     "data": {
      "text/plain": [
       "[<matplotlib.lines.Line2D at 0x272678d7208>]"
      ]
     },
     "execution_count": 14,
     "metadata": {},
     "output_type": "execute_result"
    },
    {
     "data": {
      "image/png": "[encoded data removed]",
      "text/plain": [
       "<Figure size 432x288 with 1 Axes>"
      ]
     },
     "metadata": {
      "needs_background": "light"
     },
     "output_type": "display_data"
    }
   ],
   "source": [
    "plt.plot(OPVID_list[:][2])"
   ]
  },
  {
   "cell_type": "code",
   "execution_count": 11,
   "metadata": {},
   "outputs": [
    {
     "name": "stdout",
     "output_type": "stream",
     "text": [
      "[0.         0.         0.37799232 ... 0.17580361 0.         0.        ]\n"
     ]
    }
   ],
   "source": [
    "print(OPVID_list[:][3])"
   ]
  },
  {
   "cell_type": "code",
   "execution_count": 15,
   "metadata": {},
   "outputs": [
    {
     "data": {
      "text/plain": [
       "[<matplotlib.lines.Line2D at 0x272677f0e48>]"
      ]
     },
     "execution_count": 15,
     "metadata": {},
     "output_type": "execute_result"
    },
    {
     "data": {
      "image/png": "[encoded data removed]",
      "text/plain": [
       "<Figure size 432x288 with 1 Axes>"
      ]
     },
     "metadata": {
      "needs_background": "light"
     },
     "output_type": "display_data"
    }
   ],
   "source": [
    "plt.plot(OPVID_list[:][3])"
   ]
  },
  {
   "cell_type": "code",
   "execution_count": null,
   "metadata": {},
   "outputs": [],
   "source": []
  }
 ],
 "metadata": {
  "kernelspec": {
   "display_name": "Python 3",
   "language": "python",
   "name": "python3"
  },
  "language_info": {
   "codemirror_mode": {
    "name": "ipython",
    "version": 3
   },
   "file_extension": ".py",
   "mimetype": "text/x-python",
   "name": "python",
   "nbconvert_exporter": "python",
   "pygments_lexer": "ipython3",
   "version": "3.7.4"
  }
 },
 "nbformat": 4,
 "nbformat_minor": 2
}
